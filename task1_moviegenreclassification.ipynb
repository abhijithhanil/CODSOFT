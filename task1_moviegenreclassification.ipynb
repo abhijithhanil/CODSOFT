
{
 "cells": [
  {
   "cell_type": "markdown",
   "metadata": {},
   "source": [
    "# Movie Genre Classification using TF-IDF + Logistic Regression – CodSoft Internship"
   ]
  },
  {
   "cell_type": "code",
   "execution_count": null,
   "metadata": {},
   "outputs": [],
   "source": [
    "# Sample starter code\n",
    "print('This is a placeholder for the Movie Genre Classification using TF-IDF + Logistic Regression notebook.')"
   ]
  }
 ],
 "metadata": {
  "kernelspec": {
   "display_name": "Python 3",
   "language": "python",
   "name": "python3"
  },
  "language_info": {
   "name": "python",
   "version": "3.8"
  }
 },
 "nbformat": 4,
 "nbformat_minor": 2
}
